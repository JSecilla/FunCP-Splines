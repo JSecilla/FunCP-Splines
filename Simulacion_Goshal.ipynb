{
 "cells": [
  {
   "cell_type": "code",
   "execution_count": null,
   "metadata": {},
   "outputs": [],
   "source": [
    "import Fun_BsplineBasis\n",
    "import numpy as np\n",
    "import pandas as pd\n",
    "import matplotlib.pyplot as plt\n",
    "from cpsplines.fittings.fit_cpsplines import CPsplines\n",
    "from cpsplines.psplines import bspline_basis\n",
    "import time\n",
    "from scipy.stats import sem\n",
    "from Fun_CPsplines_intercept_lib import Fun_CPsplines_intercept\n",
    "from Fun_CPsplines_libreria import Fun_CPsplines\n",
    "import rpy2.robjects as robjects"
   ]
  },
  {
   "cell_type": "code",
   "execution_count": null,
   "metadata": {},
   "outputs": [],
   "source": [
    "nombres_filas = [25, 50, 100]\n",
    "nombres_columnas = [\"0.05\"]\n",
    "\n",
    "IMSE_Restricciones_Goshal = np.empty((len(nombres_filas), len(nombres_columnas)), dtype=object)\n",
    "IMSE_Restricciones_Goshal[:] = np.nan\n",
    "\n",
    "IMSE_sd_Restricciones_Goshal = np.empty((len(nombres_filas), len(nombres_columnas)), dtype=object)\n",
    "IMSE_sd_Restricciones_Goshal[:] = np.nan\n",
    "\n",
    "IMSE_Restricciones_Goshal_2 = np.empty((len(nombres_filas), len(nombres_columnas)), dtype=object)\n",
    "IMSE_Restricciones_Goshal_2[:] = np.nan\n",
    "\n",
    "IMSE_sd_Restricciones_Goshal_2 = np.empty((len(nombres_filas), len(nombres_columnas)), dtype=object)\n",
    "IMSE_sd_Restricciones_Goshal_2[:] = np.nan\n",
    "\n",
    "MSE_Restricciones_Goshal = np.empty((len(nombres_filas), len(nombres_columnas)), dtype=object)\n",
    "MSE_Restricciones_Goshal[:] = np.nan\n",
    "\n",
    "MSE_sd_Restricciones_Goshal = np.empty((len(nombres_filas), len(nombres_columnas)), dtype=object)\n",
    "MSE_sd_Restricciones_Goshal[:] = np.nan\n",
    "\n",
    "Tiempo_Restricciones_Goshal = np.empty((len(nombres_filas), len(nombres_columnas)), dtype=object)\n",
    "Tiempo_Restricciones_Goshal[:] = np.nan\n",
    "\n",
    "Distribucion = [\"Goshal\"]\n",
    "for Distribucion in Distribucion:\n",
    "    Pos_N = 1\n",
    "    for N in [\"25\",\"50\",\"100\"]:\n",
    "        Pos_error = 1\n",
    "        for error in [\"005\"]:\n",
    "            ruta_archivo_rds = f\"X_se_Muestras_\"+ Distribucion + \"_\" + error + \"_\" + N + \".rds\"\n",
    "            # Cargar el archivo .rds en Python\n",
    "            readRDS = robjects.r['readRDS']\n",
    "            datos = readRDS(ruta_archivo_rds)\n",
    "            X_se = np.array(datos)\n",
    "            y = pd.read_csv(f\"y_Muestras_\" + Distribucion + \"_\" + error + \"_\" + N + \".csv\", sep = ',',decimal='.') #Cargamos la variable respuesta\n",
    "            Beta_real_T2 = pd.read_csv(\"Beta2_Muestras_\" + Distribucion + \".csv\",sep = ',',decimal='.')\n",
    "            Beta_real_T2 = np.array(Beta_real_T2)\n",
    "            Beta_real= pd.read_csv(\"Beta_Muestras_\" + Distribucion + \"_\" + error + \"_\" + N + \".csv\",sep = ',',decimal='.')\n",
    "            t = pd.read_csv(\"T_Muestras_Normal_\" + Distribucion + \"_\" + error + \"_\" + N + \".csv\",sep = ',',decimal='.')\n",
    "            t2 = pd.read_csv(\"T2_Muestras_\" + Distribucion + \".csv\",sep = ',',decimal='.')\n",
    "            y = np.array(y)\n",
    "            t = np.array(t)\n",
    "            t = t[:,0]\n",
    "            t2 = np.array(t2)\n",
    "            t2 = t2[:,0]\n",
    "        \n",
    "            start_time = time.time()\n",
    "            simulaciones = 200\n",
    "            Betas_est = np.zeros((200,50))\n",
    "            Base_x = bspline_basis.BsplineBasis(xsample=t,deg=3,n_int=12)\n",
    "            Base_x.get_matrix_B()\n",
    "            Phi_x = Base_x.matrixB\n",
    "            Base_beta= bspline_basis.BsplineBasis(xsample=t,deg=3,n_int=12)\n",
    "            Base_beta.get_matrix_B()\n",
    "            Phi_beta = Base_beta.matrixB\n",
    "            Base_beta_IMSE = bspline_basis.BsplineBasis(xsample=t2,deg=3,n_int=12)\n",
    "            Base_beta_IMSE.get_matrix_B()\n",
    "            Phi_beta_IMSE = Base_beta_IMSE.matrixB\n",
    "\n",
    "            sub = 1000 #Creamos un grid muy fino\n",
    "            n = 2 * sub\n",
    "            simp_w = np.ones(n + 1)\n",
    "            even = np.arange(2, n + 1, 2)\n",
    "            odd = np.arange(3, n + 1, 2)\n",
    "            simp_w[even-1] = 2\n",
    "            simp_w[odd-1] = 4\n",
    "            h = (max(t) - min(t)) / n\n",
    "            Sim_w_x = np.diag((h / 3) * simp_w)\n",
    "\n",
    "            n_IMSE = len(t2) -1 \n",
    "            simp_w_IMSE = np.ones(n_IMSE + 1)\n",
    "            even_IMSE = np.arange(2, n_IMSE + 1, 2)\n",
    "            odd_IMSE = np.arange(3, n_IMSE + 1, 2)\n",
    "            simp_w_IMSE[even_IMSE-1] = 2\n",
    "            simp_w_IMSE[odd_IMSE-1] = 4\n",
    "            h_IMSE = (max(t2) - min(t2)) / n_IMSE\n",
    "            Sim_w_x_IMSE = np.diag((h_IMSE / 3) * simp_w_IMSE)\n",
    "\n",
    "            n_2 = len(t)-1\n",
    "            simp_w_2 = np.ones(n_2 + 1)\n",
    "            even_2 = np.arange(2, n_2+ 1, 2)\n",
    "            odd_2 = np.arange(3, n_2 + 1, 2)\n",
    "            simp_w_2[even_2 -1] = 2\n",
    "            simp_w_2[odd_2-1] = 4\n",
    "            h_2 = (max(t) - min(t)) / n_2\n",
    "            Sim_w_x_2 = np.diag(simp_w_2 / 3)\n",
    "\n",
    "            x = np.arange(min(t), max(t) + h, h)\n",
    "\n",
    "            #Base de tamaño de las x\n",
    "            Base_x_inner = bspline_basis.BsplineBasis(xsample=x,deg=3,n_int=12)\n",
    "            Base_x_inner.get_matrix_B()\n",
    "            Phi_x_inner = Base_x_inner.matrixB\n",
    "\n",
    "            Base_beta_inner = bspline_basis.BsplineBasis(xsample=x,deg=3,n_int=12)\n",
    "            Base_beta_inner.get_matrix_B()\n",
    "            Phi_beta_inner = Base_beta_inner.matrixB\n",
    "\n",
    "            Gamma = (np.transpose(Phi_x_inner) @ Sim_w_x @ Phi_beta_inner) # /len(t)\n",
    "\n",
    "            IMSE=np.zeros(simulaciones)\n",
    "            IMSE_2 = np.zeros(simulaciones)\n",
    "            MSE=np.zeros(simulaciones)\n",
    "\n",
    "            for i in range(simulaciones):\n",
    "                X_se_i = X_se[:,i,:]\n",
    "                A = np.zeros((np.shape(X_se_i)[0], np.shape(Phi_x)[1]))\n",
    "                for j in range(np.shape(X_se_i)[0]):\n",
    "                        X = X_se_i[j,:]  # Seleccionamos la fila i de X_se\n",
    "                        data = pd.DataFrame({\"x\": t , \"y\": X})\n",
    "                        Ajuste = CPsplines(\n",
    "                        deg=(3,),\n",
    "                        ord_d=(2,),\n",
    "                        n_int=(12,),\n",
    "                        )\n",
    "                        Ajuste.fit(data=data, y_col=\"y\")\n",
    "                        \n",
    "                        A[j,:] = Ajuste.sol\n",
    "                            \n",
    "                    #Lo quitamos ya que la correción ya está hecha\n",
    "\n",
    "                Z = A @ Gamma #Creamos la matriz de diseño\n",
    "                columna_unos = np.ones((Z.shape[0], 1))  # Crear una columna de unos del mismo número de filas que la matriz original\n",
    "                Z_2 = np.hstack((Z,columna_unos))\n",
    "\n",
    "                datos = X_se_i[:,3]\n",
    "                y_2 = y[i,:]\n",
    "                Datos = pd.DataFrame({'X': datos, 'Y':y_2})\n",
    "\n",
    "                Prueba = Fun_CPsplines_intercept(\n",
    "                        B = Z_2,\n",
    "                        deg=(3,),\n",
    "                        ord_d=(2,),\n",
    "                        n_int=(12,),\n",
    "                        # int_constraints={\"X\": {0: {\"+\": 0}}},\n",
    "                    ) \n",
    "                display(Prueba.fit(data=Datos, y_col=\"Y\"))\n",
    "                Delta = Prueba.sol\n",
    "\n",
    "                Z_beta = Phi_beta @ Delta[:-1]\n",
    "                Z_beta_IMSE = Phi_beta_IMSE @ Delta[:-1]\n",
    "                Betas_est[i,:] = Z_beta\n",
    "                y_est = Z_2  @ Delta \n",
    "                Beta_real = np.array(Beta_real)\n",
    "                IMSE[i] = (((np.transpose(Beta_real[:,0] - Z_beta)**2) @ Sim_w_x_2).sum())*h_2\n",
    "                MSE[i] = np.mean((y_2 - y_est)**2)\n",
    "                IMSE_2[i] = np.transpose(Beta_real_T2[:,0] - Z_beta_IMSE) @ Sim_w_x_IMSE @ (Beta_real_T2[:,0] - Z_beta_IMSE)\n",
    "                \n",
    "            end_time = time.time()\n",
    "            tiempo_constrained = end_time - start_time\n",
    "            IMSE_Restricciones_Goshal_2[Pos_N-1, Pos_error-1] = np.mean(IMSE_2) * 1000\n",
    "            IMSE_sd_Restricciones_Goshal_2[Pos_N-1, Pos_error-1] = np.std(IMSE_2) * 1000\n",
    "            MSE_Restricciones_Goshal[Pos_N-1, Pos_error-1] = np.mean(MSE) * 1000\n",
    "            MSE_sd_Restricciones_Goshal[Pos_N-1, Pos_error-1] = np.std(MSE) * 1000\n",
    "            Tiempo_Restricciones_Goshal[Pos_N-1, Pos_error-1] = tiempo_constrained\n",
    "            import numpy as np\n",
    "            import matplotlib.pyplot as plt\n",
    "            from statistics import stdev\n",
    "\n",
    "            Beta_media = np.mean(Betas_est, axis=0)\n",
    "            Beta_upp = np.percentile(Betas_est, 97.5, axis=0)\n",
    "            Beta_low = np.percentile(Betas_est, 2.5, axis=0)\n",
    "\n",
    "            # Crear un array con las coordenadas x para cada columna\n",
    "            x = np.arange(len(Beta_media))\n",
    "\n",
    "            # Crear la figura y los ejes\n",
    "            fig, ax = plt.subplots()\n",
    "\n",
    "            ax.plot(x, Beta_real, color='green', linestyle='dashed', label='Beta real')\n",
    "\n",
    "            # Pintar las medias como una línea continua\n",
    "            ax.plot(x, Beta_media, color='blue', linestyle='dashed', label='Medias')\n",
    "\n",
    "            # Pintar los intervalos de confianza como líneas discontinuas\n",
    "            ax.fill_between(x, Beta_low, Beta_upp, color='pink', alpha=0.5, label='Intervalo de confianza')\n",
    "\n",
    "            plt.axhline(y=0, color='r', linestyle='--')\n",
    "            # Añadir leyenda\n",
    "            ax.legend()\n",
    "\n",
    "            # plt.savefig(\"/Users/jesussecillamartinez/Desktop/Beca Colaboración/Fun_CPsplines/Simulacion Paper Goshal/Gráficos_Simulación/\" + f\"Grafico_estimacion_\" + Distribucion + \"_Positiva_\" + error + \"_\" + N + \"_restricciones.png\")\n",
    "            # Mostrar el gráfico\n",
    "            \n",
    "            Pos_error = Pos_error + 1\n",
    "        Pos_N = Pos_N + 1"
   ]
  },
  {
   "cell_type": "code",
   "execution_count": null,
   "metadata": {},
   "outputs": [],
   "source": [
    "Beta_real_T2 = np.array(Beta_real_T2)\n",
    "np.shape((Beta_real_T2[:,0]))"
   ]
  },
  {
   "cell_type": "code",
   "execution_count": 3,
   "metadata": {},
   "outputs": [
    {
     "data": {
      "text/plain": [
       "array([[1.267560146820147],\n",
       "       [0.6288369817165235],\n",
       "       [0.34191355593542344]], dtype=object)"
      ]
     },
     "execution_count": 3,
     "metadata": {},
     "output_type": "execute_result"
    }
   ],
   "source": [
    "IMSE_Restricciones_Goshal_2"
   ]
  },
  {
   "cell_type": "code",
   "execution_count": 4,
   "metadata": {},
   "outputs": [
    {
     "data": {
      "text/plain": [
       "array([[0.9253377776900485],\n",
       "       [0.406989487434224],\n",
       "       [0.208237403689086]], dtype=object)"
      ]
     },
     "execution_count": 4,
     "metadata": {},
     "output_type": "execute_result"
    }
   ],
   "source": [
    "IMSE_sd_Restricciones_Goshal_2"
   ]
  },
  {
   "cell_type": "code",
   "execution_count": 5,
   "metadata": {},
   "outputs": [
    {
     "data": {
      "text/plain": [
       "array([[1.876217957290891],\n",
       "       [2.1397737308900844],\n",
       "       [2.3075078613982734]], dtype=object)"
      ]
     },
     "execution_count": 5,
     "metadata": {},
     "output_type": "execute_result"
    }
   ],
   "source": [
    "MSE_Restricciones_Goshal"
   ]
  },
  {
   "cell_type": "code",
   "execution_count": 6,
   "metadata": {},
   "outputs": [
    {
     "data": {
      "text/plain": [
       "array([[0.6374021425191397],\n",
       "       [0.4779787793538136],\n",
       "       [0.3396572303035512]], dtype=object)"
      ]
     },
     "execution_count": 6,
     "metadata": {},
     "output_type": "execute_result"
    }
   ],
   "source": [
    "MSE_sd_Restricciones_Goshal"
   ]
  },
  {
   "cell_type": "code",
   "execution_count": null,
   "metadata": {},
   "outputs": [],
   "source": [
    "columnas = ['0.05']\n",
    "IMSE_Restricciones_Goshal = pd.DataFrame(IMSE_Restricciones_Goshal, columns= columnas)\n",
    "print(IMSE_Restricciones_Goshal.to_string(index=False))"
   ]
  },
  {
   "cell_type": "code",
   "execution_count": null,
   "metadata": {},
   "outputs": [],
   "source": [
    "Tiempo_Restricciones_Goshal = pd.DataFrame(Tiempo_Restricciones_Goshal)\n",
    "print(Tiempo_Restricciones_Goshal.to_string(index=False))"
   ]
  },
  {
   "cell_type": "code",
   "execution_count": null,
   "metadata": {},
   "outputs": [],
   "source": [
    "import numpy as np\n",
    "import matplotlib.pyplot as plt\n",
    "from statistics import stdev\n",
    "\n",
    "Beta_media = np.mean(Betas_est, axis=0)\n",
    "Beta_upp = np.percentile(Betas_est, 97.5, axis=0)\n",
    "Beta_low = np.percentile(Betas_est, 2.5, axis=0)\n",
    "\n",
    "# Crear un array con las coordenadas x para cada columna\n",
    "x = np.arange(len(Beta_media))\n",
    "\n",
    "# Crear la figura y los ejes\n",
    "fig, ax = plt.subplots()\n",
    "\n",
    "ax.plot(x, Beta_real, color='green', linestyle='dashed', label='Beta real')\n",
    "\n",
    "# Pintar las medias como una línea continua\n",
    "ax.plot(x, Beta_media, color='blue', linestyle='dashed', label='Medias')\n",
    "\n",
    "# Pintar los intervalos de confianza como líneas discontinuas\n",
    "ax.fill_between(x, Beta_low, Beta_upp, color='pink', alpha=0.5, label='Intervalo de confianza')\n",
    "\n",
    "plt.axhline(y=0, color='r', linestyle='--')\n",
    "# Añadir leyenda\n",
    "ax.legend()\n",
    "\n",
    "# plt.savefig(f\"Grafico_estimacion_\" + Distribucion + \"_Positiva_\" + error + \"_\" + N + \"_restricciones.png\")\n",
    "# Mostrar el gráfico\n",
    "plt.show()\n",
    "\n",
    "print(\"Estimación de \", Distribucion, \"Positiva con un error de\", error, \"con restricciones\")\n",
    "print('IMSE *1000 para N=',N,\"-\",IMSE.mean()*1000)\n",
    "print('sd(IMSE) *1000 para N=',N, \"-\",stdev(IMSE)*1000)\n",
    "print('IMSE_2 *1000 para N=',N,\"-\",IMSE_2.mean()*1000)\n",
    "print('sd(IMSE_2) *1000 para N=',N, \"-\",stdev(IMSE_2)*1000)\n",
    "print('MSE *1000 for N=',N,\"-\",  MSE.mean()*1000)\n",
    "print('sd(MSE) *1000 para N=',N, \"-\", stdev(MSE)*1000)\n",
    "print('Tiempo de estimación (Segundos) para N=',N,\"-\",Tiempo_Restricciones_Goshal)"
   ]
  }
 ],
 "metadata": {
  "kernelspec": {
   "display_name": "py-template",
   "language": "python",
   "name": "python3"
  },
  "language_info": {
   "codemirror_mode": {
    "name": "ipython",
    "version": 3
   },
   "file_extension": ".py",
   "mimetype": "text/x-python",
   "name": "python",
   "nbconvert_exporter": "python",
   "pygments_lexer": "ipython3",
   "version": "3.10.13"
  }
 },
 "nbformat": 4,
 "nbformat_minor": 2
}
